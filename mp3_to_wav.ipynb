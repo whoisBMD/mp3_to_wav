{
 "cells": [
  {
   "cell_type": "code",
   "execution_count": null,
   "id": "6f52be99",
   "metadata": {},
   "outputs": [],
   "source": [
    "pip install pydub\n",
    "\n",
    "from pydub import AudioSegment\n",
    "sound = AudioSegment.from_mp3(\"/path/to/file.mp3\")\n",
    "sound.export(\"/output/path/file.wav\", format=\"wav\")"
   ]
  }
 ],
 "metadata": {
  "kernelspec": {
   "display_name": "Python 3 (ipykernel)",
   "language": "python",
   "name": "python3"
  },
  "language_info": {
   "codemirror_mode": {
    "name": "ipython",
    "version": 3
   },
   "file_extension": ".py",
   "mimetype": "text/x-python",
   "name": "python",
   "nbconvert_exporter": "python",
   "pygments_lexer": "ipython3",
   "version": "3.9.12"
  }
 },
 "nbformat": 4,
 "nbformat_minor": 5
}
